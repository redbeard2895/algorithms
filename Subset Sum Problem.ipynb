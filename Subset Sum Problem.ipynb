{
 "cells": [
  {
   "cell_type": "markdown",
   "metadata": {},
   "source": [
    "This Jupyter notebook implements the following solutions for the Subset Sum Problem:\n",
    "\n",
    "    1. Exponential Time Optimal Value algorithm\n",
    "    2. Polynomial Time Approximate Vaue algorithm\n",
    "    \n",
    "The <b>Subset Sum problem</b> is given as:\n",
    "\n",
    "In the subset-sum problem, we are given a finite set S of positive integers and an integer target t>0. We ask whether there exists a subset S'⊆S whose element sum to t. If we can't reach this target exactly, how close can we get to it?\n",
    "\n",
    "##### This problem is known to be NP Complete as of today.\n",
    "\n",
    "We use the time_ns() module of the time library to get an idea of running time in both the cases. The example we are working with is very small and thus even the Exponential time algorithm runs successfully.\n",
    "\n",
    "\n",
    "\n",
    "\n",
    "This file is part of a project done by Rohan Prateek done under the guidance of Dr. Prosenjit Gupta towards the completion of an Advanced Algorithms course."
   ]
  },
  {
   "cell_type": "markdown",
   "metadata": {},
   "source": [
    "### Importing libraries"
   ]
  },
  {
   "cell_type": "code",
   "execution_count": 1,
   "metadata": {},
   "outputs": [],
   "source": [
    "import time       # to time the execution"
   ]
  },
  {
   "cell_type": "markdown",
   "metadata": {},
   "source": [
    "### Explicitly defined functions\n",
    "\n",
    "   1. set_add(S, x) : Takes a list of integers and an integer as input, adds the integer to every element of the list and                             returns it.\n",
    "    \n",
    "   2. merge(l1, l2) : Takes to sorted lists and returns merged, sorted list with no duplicate elements.\n",
    "    \n",
    "   3. remove_greater(l1, key) : Takes a list of integers and another integer key, returns a list with elements greater than key                                 removed.\n",
    "    \n",
    "   4. trim(l1, e) : Takes a list of integers and trims it by e. The returned list has an element 'representing' an element in the list passed to it."
   ]
  },
  {
   "cell_type": "code",
   "execution_count": 2,
   "metadata": {},
   "outputs": [],
   "source": [
    "def set_add(S, x):\n",
    "\n",
    "    temp = list()\n",
    "    temp = [S[i] + x for i in range(len(S))] \n",
    "        \n",
    "    return temp\n",
    "\n",
    "\n",
    "def merge(l1, l2):\n",
    "    \n",
    "    temp = list()\n",
    "    n1 = len(l1)\n",
    "    n2 = len(l2)\n",
    "    count = 0\n",
    "    ind1 = 0\n",
    "    ind2 = 0\n",
    "    while count != (n1 + n2):\n",
    "        \n",
    "        if ind1 < n1 and ind2 < n2:\n",
    "            if l1[ind1] < l2[ind2]:\n",
    "                temp.append(l1[ind1])\n",
    "                ind1 += 1\n",
    "                count += 1\n",
    "                \n",
    "            elif l1[ind1] > l2[ind2]:\n",
    "                temp.append(l2[ind2])\n",
    "                ind2 += 1\n",
    "                count += 1\n",
    "        \n",
    "            else:\n",
    "                temp.append(l1[ind1])\n",
    "                ind1 += 1\n",
    "                ind2 += 1\n",
    "                count += 2\n",
    "                \n",
    "        elif ind1 < n1:\n",
    "            temp.append(l1[ind1])\n",
    "            ind1 += 1\n",
    "            count += 1\n",
    "            \n",
    "        else:\n",
    "            temp.append(l2[ind2])\n",
    "            ind2 += 1\n",
    "            count += 1\n",
    "\n",
    "    return temp\n",
    "\n",
    "\n",
    "def remove_greater(l1, key):\n",
    "    \n",
    "    temp = list()\n",
    "    for i in range(len(l1)):\n",
    "        if l1[i] <= key:\n",
    "            temp.append(l1[i])\n",
    "            \n",
    "    return temp\n",
    "\n",
    "\n",
    "def trim(l, e):\n",
    "    \n",
    "    n = len(l)\n",
    "    l_ = list()\n",
    "    l_.append(l[0])\n",
    "    last = l[0]\n",
    "    \n",
    "    for i in range(1, n):\n",
    "        if l[i] > (last * (1 + e)):\n",
    "            l_.append(l[i])\n",
    "            last = l[i]\n",
    "    \n",
    "    return l_"
   ]
  },
  {
   "cell_type": "markdown",
   "metadata": {},
   "source": [
    "## Exponential Time Optimal Solution algorithm"
   ]
  },
  {
   "cell_type": "code",
   "execution_count": 3,
   "metadata": {},
   "outputs": [
    {
     "name": "stdout",
     "output_type": "stream",
     "text": [
      "The result was determined to be: 138457\n",
      "The algorithm took 61416000 ns to run.\n"
     ]
    }
   ],
   "source": [
    "start1 = time.time_ns()\n",
    "S = {1, 2, 7, 14, 49, 98, 343, 686, 2409, 2793, 16808, 17206, 117705, 117993}\n",
    "t = 138457\n",
    "S = list(S)\n",
    "n = len(S)\n",
    "L = [[0]]\n",
    "for i in range(1, n + 1):\n",
    "    L.append(merge(L[i - 1], set_add(L[i - 1], S[i - 1])))\n",
    "    L[i] = remove_greater(L[i], t)\n",
    "expo_result = max(L[n])\n",
    "print('The result was determined to be:', expo_result)\n",
    "stop1 = time.time_ns()\n",
    "print('The algorithm took %d ns to run.' %(stop1 - start1))"
   ]
  },
  {
   "cell_type": "markdown",
   "metadata": {},
   "source": [
    "## Polynomial Time Approximate Solution algorithm"
   ]
  },
  {
   "cell_type": "code",
   "execution_count": 4,
   "metadata": {},
   "outputs": [
    {
     "name": "stdout",
     "output_type": "stream",
     "text": [
      "The result was determined to be: 136922\n",
      "The algorithm took 25194000 ns to run.\n"
     ]
    }
   ],
   "source": [
    "start2 = time.time_ns()\n",
    "S = {1, 2, 7, 14, 49, 98, 343, 686, 2409, 2793, 16808, 17206, 117705, 117993}\n",
    "t = 138457\n",
    "e = 0.40\n",
    "S = list(S)\n",
    "n = len(S)\n",
    "L = [[0]]\n",
    "for i in range(1, n + 1):\n",
    "    L.append(merge(L[i - 1], set_add(L[i - 1], S[i - 1])))\n",
    "    L[i] = trim(L[i], e/(2 * n))\n",
    "    L[i] = remove_greater(L[i], t)\n",
    "poly_result = max(L[n])    \n",
    "print('The result was determined to be:', poly_result)  \n",
    "stop2 = time.time_ns()\n",
    "print('The algorithm took %d ns to run.' %(stop2 - start2))"
   ]
  },
  {
   "cell_type": "markdown",
   "metadata": {},
   "source": [
    "### Running Time comparison"
   ]
  },
  {
   "cell_type": "code",
   "execution_count": 5,
   "metadata": {},
   "outputs": [
    {
     "name": "stdout",
     "output_type": "stream",
     "text": [
      "The Exponential Time Algorithm took 2.438 times longer to run than the Polynomial Time Algorithm.\n"
     ]
    }
   ],
   "source": [
    "expo_time = stop1 - start1\n",
    "poly_time = stop2 - start2\n",
    "print('The Exponential Time Algorithm took %.3f times longer to run than the Polynomial Time Algorithm.' %(expo_time / poly_time))"
   ]
  },
  {
   "cell_type": "markdown",
   "metadata": {},
   "source": [
    "### Result Comparison"
   ]
  },
  {
   "cell_type": "code",
   "execution_count": 6,
   "metadata": {},
   "outputs": [
    {
     "name": "stdout",
     "output_type": "stream",
     "text": [
      "The Optimal Result was: 138457\n",
      "The Approximate Result was: 136922\n",
      "The Approximate result was within 1.11 % of the Optimal result.\n"
     ]
    }
   ],
   "source": [
    "print('The Optimal Result was: %d\\nThe Approximate Result was: %d\\nThe Approximate result was within %.2f %% of the Optimal result.'\n",
    "     %(expo_result, poly_result, (((expo_result - poly_result)/ expo_result) * 100)))"
   ]
  }
 ],
 "metadata": {
  "kernelspec": {
   "display_name": "Python 3",
   "language": "python",
   "name": "python3"
  },
  "language_info": {
   "codemirror_mode": {
    "name": "ipython",
    "version": 3
   },
   "file_extension": ".py",
   "mimetype": "text/x-python",
   "name": "python",
   "nbconvert_exporter": "python",
   "pygments_lexer": "ipython3",
   "version": "3.8.3"
  }
 },
 "nbformat": 4,
 "nbformat_minor": 4
}
